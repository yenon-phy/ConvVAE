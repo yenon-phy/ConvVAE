{
 "cells": [
  {
   "cell_type": "code",
   "execution_count": 1,
   "metadata": {},
   "outputs": [],
   "source": [
    "import torch\n",
    "import torch.optim as optim\n",
    "from torchvision import transforms\n",
    "from tqdm.notebook import tqdm\n",
    "import matplotlib.pyplot as plt\n",
    "import seaborn as sns\n",
    "sns.set()\n",
    "\n",
    "import sys\n",
    "sys.path.append('../src')\n",
    "from functions.mnist import get_dataloader\n",
    "from functions.loss import VAELoss\n",
    "from models.model import ConvVAE\n",
    "\n",
    "import warnings\n",
    "warnings.simplefilter('ignore')"
   ]
  },
  {
   "cell_type": "markdown",
   "metadata": {},
   "source": [
    "## Hyperparameters"
   ]
  },
  {
   "cell_type": "code",
   "execution_count": 2,
   "metadata": {},
   "outputs": [],
   "source": [
    "batch_size = 64        \n",
    "epochs = 20           \n",
    "hidden_size = 784        \n",
    "latent_size = 200\n",
    "lr = 0.001"
   ]
  },
  {
   "cell_type": "markdown",
   "metadata": {},
   "source": [
    "## Device"
   ]
  },
  {
   "cell_type": "code",
   "execution_count": 3,
   "metadata": {},
   "outputs": [
    {
     "name": "stdout",
     "output_type": "stream",
     "text": [
      "cuda: GeForce RTX 2070 with Max-Q Design\n"
     ]
    }
   ],
   "source": [
    "dev = 'cuda' if torch.cuda.is_available() else 'cpu'\n",
    "dev_name = torch.cuda.get_device_name()\n",
    "print(f'{dev}: {dev_name}')"
   ]
  },
  {
   "cell_type": "markdown",
   "metadata": {},
   "source": [
    "## Preprocessing"
   ]
  },
  {
   "cell_type": "code",
   "execution_count": 4,
   "metadata": {},
   "outputs": [],
   "source": [
    "data_path = '../data/mnist'\n",
    "transform = transforms.Compose([\n",
    "    transforms.ToTensor()\n",
    "])"
   ]
  },
  {
   "cell_type": "markdown",
   "metadata": {},
   "source": [
    "## Modeling"
   ]
  },
  {
   "cell_type": "code",
   "execution_count": 5,
   "metadata": {},
   "outputs": [],
   "source": [
    "model = ConvVAE(hidden_size=hidden_size, latent_size=latent_size)\n",
    "model.to(dev)\n",
    "train_loader = get_dataloader(data_path, transform)\n",
    "optimizer = optim.Adam(model.parameters(), lr=lr)"
   ]
  },
  {
   "cell_type": "code",
   "execution_count": 6,
   "metadata": {},
   "outputs": [
    {
     "data": {
      "application/vnd.jupyter.widget-view+json": {
       "model_id": "99fb2d3bb3a7477abb3ef699c775df77",
       "version_major": 2,
       "version_minor": 0
      },
      "text/plain": [
       "  0%|          | 0/20 [00:00<?, ?it/s]"
      ]
     },
     "metadata": {},
     "output_type": "display_data"
    },
    {
     "name": "stdout",
     "output_type": "stream",
     "text": [
      "epoch: 1/20, loss: 11092.010543855777\n",
      "epoch: 2/20, loss: 7750.639230951826\n",
      "epoch: 3/20, loss: 7279.905958488806\n",
      "epoch: 4/20, loss: 7110.167309205924\n",
      "epoch: 5/20, loss: 7017.499552322095\n",
      "epoch: 6/20, loss: 6954.239331210854\n",
      "epoch: 7/20, loss: 6907.252281335371\n",
      "epoch: 8/20, loss: 6873.022980972648\n",
      "epoch: 9/20, loss: 6842.519080448761\n",
      "epoch: 10/20, loss: 6821.071544915629\n",
      "epoch: 11/20, loss: 6801.344479298541\n",
      "epoch: 12/20, loss: 6780.763194265142\n",
      "epoch: 13/20, loss: 6763.203524266225\n",
      "epoch: 14/20, loss: 6748.183303540195\n",
      "epoch: 15/20, loss: 6739.579321497285\n",
      "epoch: 16/20, loss: 6723.6393108571265\n",
      "epoch: 17/20, loss: 6713.580108317231\n",
      "epoch: 18/20, loss: 6705.5733921075425\n",
      "epoch: 19/20, loss: 6698.0280465002\n",
      "epoch: 20/20, loss: 6689.039736619637\n"
     ]
    }
   ],
   "source": [
    "losses = []\n",
    "for epoch in tqdm(range(epochs)):\n",
    "    running_loss = 0.0\n",
    "    for imgs, _ in train_loader:\n",
    "        imgs = imgs.to(dev)\n",
    "        \n",
    "        optimizer.zero_grad()\n",
    "        \n",
    "        output, mu, log_var = model(imgs)\n",
    "        loss = VAELoss(output, imgs, mu, log_var)\n",
    "        running_loss += loss.item()\n",
    "        \n",
    "        loss.backward()\n",
    "        optimizer.step()\n",
    "        \n",
    "    running_loss /= len(train_loader)\n",
    "    losses.append(running_loss)\n",
    "    print(f\"epoch: {epoch+1}/{epochs}, loss: {running_loss}\")"
   ]
  },
  {
   "cell_type": "code",
   "execution_count": 7,
   "metadata": {},
   "outputs": [
    {
     "data": {
      "image/png": "[encoded data removed]",
      "text/plain": [
       "<Figure size 432x288 with 1 Axes>"
      ]
     },
     "metadata": {},
     "output_type": "display_data"
    }
   ],
   "source": [
    "# 学習曲線\n",
    "plt.style.use(\"ggplot\")\n",
    "plt.plot(losses)\n",
    "plt.savefig('../results/losses.png')"
   ]
  },
  {
   "cell_type": "code",
   "execution_count": 8,
   "metadata": {},
   "outputs": [],
   "source": [
    "data_iter = iter(train_loader)  # イテレータに変換\n",
    "imgs, _ = data_iter.next()  # 1バッチ目\n",
    "img_0 = imgs[0]  # 1つ目の画像\n",
    "img = img_0.permute(1, 2, 0)  # (C, H, W) --> (H, W, C)"
   ]
  },
  {
   "cell_type": "code",
   "execution_count": 9,
   "metadata": {},
   "outputs": [
    {
     "data": {
      "image/png": "[encoded data removed]",
      "text/plain": [
       "<Figure size 432x288 with 2 Axes>"
      ]
     },
     "metadata": {},
     "output_type": "display_data"
    }
   ],
   "source": [
    "# 入力データ\n",
    "sns.heatmap(img[:, :, 0])\n",
    "plt.savefig('../results/input.png')"
   ]
  },
  {
   "cell_type": "code",
   "execution_count": 10,
   "metadata": {},
   "outputs": [],
   "source": [
    "X, mu, log_var = model(imgs.to(dev))\n",
    "Z = model._reparameterize(mu, log_var)\n",
    "Z = model.fc(Z)\n",
    "x_en = Z.view(Z.size(0), 16, 7, 7)\n",
    "x_en = x_en[0].permute(1, 2, 0)"
   ]
  },
  {
   "cell_type": "code",
   "execution_count": 11,
   "metadata": {},
   "outputs": [
    {
     "data": {
      "image/png": "[encoded data removed]",
      "text/plain": [
       "<Figure size 432x288 with 2 Axes>"
      ]
     },
     "metadata": {},
     "output_type": "display_data"
    }
   ],
   "source": [
    "# 潜在空間\n",
    "sns.heatmap(x_en[:, :, 0].detach().to(\"cpu\"))\n",
    "plt.savefig('../results/input_encoded.png')"
   ]
  },
  {
   "cell_type": "code",
   "execution_count": 12,
   "metadata": {},
   "outputs": [],
   "source": [
    "x_hat = X[0]"
   ]
  },
  {
   "cell_type": "code",
   "execution_count": 13,
   "metadata": {},
   "outputs": [
    {
     "data": {
      "image/png": "[encoded data removed]",
      "text/plain": [
       "<Figure size 432x288 with 2 Axes>"
      ]
     },
     "metadata": {},
     "output_type": "display_data"
    }
   ],
   "source": [
    "# 再構成後\n",
    "sns.heatmap(x_hat.permute(1, 2, 0).detach().to(\"cpu\")[:, :, 0])\n",
    "plt.savefig('../results/output.png')"
   ]
  },
  {
   "cell_type": "code",
   "execution_count": 14,
   "metadata": {},
   "outputs": [
    {
     "data": {
      "text/plain": [
       "'Netron\\ninput_names = [\"input\"]\\noutput_names = [\"output\"]\\noutput_dir = \"../results/model.onnx\"\\nimgs = imgs.to(dev)\\ntorch.onnx.export(\\n    model, imgs, output_dir, \\n    input_names=input_names,\\n    output_names=output_names\\n)\\n'"
      ]
     },
     "execution_count": 14,
     "metadata": {},
     "output_type": "execute_result"
    }
   ],
   "source": [
    "\"\"\"Netron\n",
    "input_names = [\"input\"]\n",
    "output_names = [\"output\"]\n",
    "output_dir = \"../results/model.onnx\"\n",
    "imgs = imgs.to(dev)\n",
    "torch.onnx.export(\n",
    "    model, imgs, output_dir, \n",
    "    input_names=input_names,\n",
    "    output_names=output_names\n",
    ")\n",
    "\"\"\""
   ]
  }
 ],
 "metadata": {
  "kernelspec": {
   "display_name": "Python 3",
   "language": "python",
   "name": "python3"
  },
  "language_info": {
   "codemirror_mode": {
    "name": "ipython",
    "version": 3
   },
   "file_extension": ".py",
   "mimetype": "text/x-python",
   "name": "python",
   "nbconvert_exporter": "python",
   "pygments_lexer": "ipython3",
   "version": "3.8.5"
  }
 },
 "nbformat": 4,
 "nbformat_minor": 4
}
